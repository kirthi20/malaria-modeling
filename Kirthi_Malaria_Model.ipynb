{
 "cells": [
  {
   "cell_type": "markdown",
   "metadata": {
    "colab_type": "text",
    "id": "fZ8DsTw3NyNX"
   },
   "source": [
    "# **Basic Malaria Model**\n",
    "This code is designed to use machine learning to detect malaria, an infectious disease that primarily affects tropical areas because of trasmission via mosquito bites.\n",
    "\n",
    "**Kirthi Kumar**"
   ]
  },
  {
   "cell_type": "code",
   "execution_count": null,
   "metadata": {
    "colab": {
     "base_uri": "https://localhost:8080/",
     "height": 198
    },
    "colab_type": "code",
    "executionInfo": {
     "elapsed": 563,
     "status": "error",
     "timestamp": 1594393289422,
     "user": {
      "displayName": "Kirthi Kumar",
      "photoUrl": "",
      "userId": "13534810776525529931"
     },
     "user_tz": 240
    },
    "id": "VVcqfqhKIbG1",
    "outputId": "5c84e49a-dd3a-4bd9-84e5-aaae35e5d31d"
   },
   "outputs": [
    {
     "ename": "FileNotFoundError",
     "evalue": "ignored",
     "output_type": "error",
     "traceback": [
      "\u001b[0;31m---------------------------------------------------------------------------\u001b[0m",
      "\u001b[0;31mFileNotFoundError\u001b[0m                         Traceback (most recent call last)",
      "\u001b[0;32m<ipython-input-4-bea87ce04892>\u001b[0m in \u001b[0;36m<module>\u001b[0;34m()\u001b[0m\n\u001b[1;32m      1\u001b[0m \u001b[0mlabel\u001b[0m \u001b[0;34m=\u001b[0m \u001b[0;34m\"Parasitized\"\u001b[0m\u001b[0;34m\u001b[0m\u001b[0;34m\u001b[0m\u001b[0m\n\u001b[1;32m      2\u001b[0m \u001b[0mdirList\u001b[0m \u001b[0;34m=\u001b[0m \u001b[0mglob\u001b[0m\u001b[0;34m.\u001b[0m\u001b[0mglob\u001b[0m\u001b[0;34m(\u001b[0m\u001b[0;34m\"cell_images/\"\u001b[0m\u001b[0;34m+\u001b[0m\u001b[0mlabel\u001b[0m\u001b[0;34m+\u001b[0m\u001b[0;34m\"/*.png\"\u001b[0m\u001b[0;34m)\u001b[0m\u001b[0;34m\u001b[0m\u001b[0;34m\u001b[0m\u001b[0m\n\u001b[0;32m----> 3\u001b[0;31m \u001b[0mfile\u001b[0m \u001b[0;34m=\u001b[0m \u001b[0mopen\u001b[0m\u001b[0;34m(\u001b[0m\u001b[0;34m\"csv/dataset.csv\"\u001b[0m\u001b[0;34m,\u001b[0m\u001b[0;34m\"a\"\u001b[0m\u001b[0;34m)\u001b[0m\u001b[0;34m\u001b[0m\u001b[0;34m\u001b[0m\u001b[0m\n\u001b[0m",
      "\u001b[0;31mFileNotFoundError\u001b[0m: [Errno 2] No such file or directory: 'csv/dataset.csv'"
     ]
    }
   ],
   "source": [
    "import os\n",
    "import glob\n",
    "from google.colab import drive\n",
    "\n",
    "base_dir = os.path.join('./Downloads/cell_images')\n",
    "infected_dir = os.path.join(base_dir,'Parasitized')\n",
    "healthy_dir = os.path.join(base_dir,'Uninfected')\n",
    "\n",
    "infected_files = glob.glob(infected_dir+'/*.png')\n",
    "healthy_files = glob.glob(healthy_dir+'/*.png')\n",
    "len(infected_files), len(healthy_files)"
   ]
  },
  {
   "cell_type": "code",
   "execution_count": null,
   "metadata": {
    "colab": {},
    "colab_type": "code",
    "id": "U76zfvpXK-Rn"
   },
   "outputs": [],
   "source": [
    "import numpy as np\n",
    "import pandas as pd\n",
    "\n",
    "np.random.seed(42)\n",
    "\n",
    "files_df = pd.DataFrame({\n",
    "    'filename': infected_files + healthy_files,\n",
    "    'label': ['malaria'] * len(infected_files) + ['healthy'] * len(healthy_files)\n",
    "}).sample(frac=1, random_state=42).reset_index(drop=True)\n",
    "\n",
    "files_df.head()"
   ]
  },
  {
   "cell_type": "code",
   "execution_count": null,
   "metadata": {
    "colab": {},
    "colab_type": "code",
    "id": "Czh-fuX_omBh"
   },
   "outputs": [],
   "source": [
    "#create train, validation, and test datasets\n",
    "from sklearn.model_selection import train_test_split\n",
    "from collections import Counter\n",
    "\n",
    "train_files, test_files, train_labels, test_labels = train_test_split(files_df['filename'].values,\n",
    "                                                                      files_df['label'].values, \n",
    "                                                                      test_size=0.3, random_state=42)\n",
    "train_files, val_files, train_labels, val_labels = train_test_split(train_files,\n",
    "                                                                    train_labels, \n",
    "                                                                    test_size=0.1, random_state=42)\n",
    "\n",
    "print(train_files.shape, val_files.shape, test_files.shape)\n",
    "print('Train:', Counter(train_labels), '\\nVal:', Counter(val_labels), '\\nTest:', Counter(test_labels))"
   ]
  },
  {
   "cell_type": "code",
   "execution_count": null,
   "metadata": {
    "colab": {},
    "colab_type": "code",
    "id": "KBZNOtfQoo6V"
   },
   "outputs": [],
   "source": [
    "import cv2\n",
    "from concurrent import futures\n",
    "import threading\n",
    "\n",
    "def get_img_shape_parallel(idx, img, total_imgs):\n",
    "    if idx % 5000 == 0 or idx == (total_imgs - 1):\n",
    "        print('{}: working on img num: {}'.format(threading.current_thread().name,\n",
    "                                                  idx))\n",
    "    return cv2.imread(img).shape\n",
    "  \n",
    "ex = futures.ThreadPoolExecutor(max_workers=None)\n",
    "data_inp = [(idx, img, len(train_files)) for idx, img in enumerate(train_files)]\n",
    "print('Starting Img shape computation:')\n",
    "train_img_dims_map = ex.map(get_img_shape_parallel, \n",
    "                            [record[0] for record in data_inp],\n",
    "                            [record[1] for record in data_inp],\n",
    "                            [record[2] for record in data_inp])\n",
    "train_img_dims = list(train_img_dims_map)\n",
    "print('Min Dimensions:', np.min(train_img_dims, axis=0)) \n",
    "print('Avg Dimensions:', np.mean(train_img_dims, axis=0))\n",
    "print('Median Dimensions:', np.median(train_img_dims, axis=0))\n",
    "print('Max Dimensions:', np.max(train_img_dims, axis=0))"
   ]
  },
  {
   "cell_type": "code",
   "execution_count": null,
   "metadata": {
    "colab": {},
    "colab_type": "code",
    "id": "pCqlBfp0oqm-"
   },
   "outputs": [],
   "source": [
    "#load and resize images\n",
    "\n",
    "IMG_DIMS = (125, 125)\n",
    "\n",
    "def get_img_data_parallel(idx, img, total_imgs):\n",
    "    if idx % 5000 == 0 or idx == (total_imgs - 1):\n",
    "        print('{}: working on img num: {}'.format(threading.current_thread().name,\n",
    "                                                  idx))\n",
    "    img = cv2.imread(img)\n",
    "    img = cv2.resize(img, dsize=IMG_DIMS, \n",
    "                     interpolation=cv2.INTER_CUBIC)\n",
    "    img = np.array(img, dtype=np.float32)\n",
    "    return img\n",
    "\n",
    "ex = futures.ThreadPoolExecutor(max_workers=None)\n",
    "train_data_inp = [(idx, img, len(train_files)) for idx, img in enumerate(train_files)]\n",
    "val_data_inp = [(idx, img, len(val_files)) for idx, img in enumerate(val_files)]\n",
    "test_data_inp = [(idx, img, len(test_files)) for idx, img in enumerate(test_files)]\n",
    "\n",
    "print('Loading Train Images:')\n",
    "train_data_map = ex.map(get_img_data_parallel, \n",
    "                        [record[0] for record in train_data_inp],\n",
    "                        [record[1] for record in train_data_inp],\n",
    "                        [record[2] for record in train_data_inp])\n",
    "train_data = np.array(list(train_data_map))\n",
    "\n",
    "print('\\nLoading Validation Images:')\n",
    "val_data_map = ex.map(get_img_data_parallel, \n",
    "                        [record[0] for record in val_data_inp],\n",
    "                        [record[1] for record in val_data_inp],\n",
    "                        [record[2] for record in val_data_inp])\n",
    "val_data = np.array(list(val_data_map))\n",
    "\n",
    "print('\\nLoading Test Images:')\n",
    "test_data_map = ex.map(get_img_data_parallel, \n",
    "                        [record[0] for record in test_data_inp],\n",
    "                        [record[1] for record in test_data_inp],\n",
    "                        [record[2] for record in test_data_inp])\n",
    "test_data = np.array(list(test_data_map))\n",
    "\n",
    "train_data.shape, val_data.shape, test_data.shape  "
   ]
  },
  {
   "cell_type": "code",
   "execution_count": null,
   "metadata": {
    "colab": {},
    "colab_type": "code",
    "id": "IPRBOvaDosk1"
   },
   "outputs": [],
   "source": [
    "#view sample cell images\n",
    "import matplotlib.pyplot as plt\n",
    "%matplotlib inline\n",
    "\n",
    "plt.figure(1 , figsize = (8 , 8))\n",
    "n = 0 \n",
    "for i in range(16):\n",
    "    n += 1 \n",
    "    r = np.random.randint(0 , train_data.shape[0] , 1)\n",
    "    plt.subplot(4 , 4 , n)\n",
    "    plt.subplots_adjust(hspace = 0.5 , wspace = 0.5)\n",
    "    plt.imshow(train_data[r[0]]/255.)\n",
    "    plt.title('{}'.format(train_labels[r[0]]))\n",
    "    plt.xticks([]) , plt.yticks([])"
   ]
  },
  {
   "cell_type": "code",
   "execution_count": null,
   "metadata": {
    "colab": {},
    "colab_type": "code",
    "id": "Zr-_AUbdovUX"
   },
   "outputs": [],
   "source": [
    "#setup config settings,  \n",
    "BATCH_SIZE = 64\n",
    "NUM_CLASSES = 2\n",
    "EPOCHS = 25\n",
    "INPUT_SHAPE = (125, 125, 3)\n",
    "\n",
    "train_imgs_scaled = train_data / 255.\n",
    "val_imgs_scaled = val_data / 255.\n",
    "\n",
    "# encode text category labels\n",
    "from sklearn.preprocessing import LabelEncoder\n",
    "\n",
    "le = LabelEncoder()\n",
    "le.fit(train_labels)\n",
    "train_labels_enc = le.transform(train_labels)\n",
    "val_labels_enc = le.transform(val_labels)\n",
    "\n",
    "print(train_labels[:6], train_labels_enc[:6])"
   ]
  },
  {
   "cell_type": "code",
   "execution_count": null,
   "metadata": {
    "colab": {},
    "colab_type": "code",
    "id": "5jttA3IIov6w"
   },
   "outputs": [],
   "source": [
    "#build the CNN\n",
    "import tensorflow as tf\n",
    "\n",
    "inp = tf.keras.layers.Input(shape=INPUT_SHAPE)\n",
    "\n",
    "conv1 = tf.keras.layers.Conv2D(32, kernel_size=(3, 3), \n",
    "                               activation='relu', padding='same')(inp)\n",
    "pool1 = tf.keras.layers.MaxPooling2D(pool_size=(2, 2))(conv1)\n",
    "conv2 = tf.keras.layers.Conv2D(64, kernel_size=(3, 3), \n",
    "                               activation='relu', padding='same')(pool1)\n",
    "pool2 = tf.keras.layers.MaxPooling2D(pool_size=(2, 2))(conv2)\n",
    "conv3 = tf.keras.layers.Conv2D(128, kernel_size=(3, 3), \n",
    "                               activation='relu', padding='same')(pool2)\n",
    "pool3 = tf.keras.layers.MaxPooling2D(pool_size=(2, 2))(conv3)\n",
    "\n",
    "flat = tf.keras.layers.Flatten()(pool3)\n",
    "\n",
    "hidden1 = tf.keras.layers.Dense(512, activation='relu')(flat)\n",
    "drop1 = tf.keras.layers.Dropout(rate=0.3)(hidden1)\n",
    "hidden2 = tf.keras.layers.Dense(512, activation='relu')(drop1)\n",
    "drop2 = tf.keras.layers.Dropout(rate=0.3)(hidden2)\n",
    "\n",
    "out = tf.keras.layers.Dense(1, activation='sigmoid')(drop2)\n",
    "\n",
    "model = tf.keras.Model(inputs=inp, outputs=out)\n",
    "model.compile(optimizer='adam',\n",
    "                loss='binary_crossentropy',\n",
    "                metrics=['accuracy'])\n",
    "model.summary()"
   ]
  },
  {
   "cell_type": "code",
   "execution_count": null,
   "metadata": {
    "colab": {},
    "colab_type": "code",
    "id": "onYCnpMEpTiK"
   },
   "outputs": [],
   "source": [
    "#train the model\n",
    "import datetime\n",
    "\n",
    "logdir = os.path.join('./Documents/logs', \n",
    "                      datetime.datetime.now().strftime(\"%Y%m%d-%H%M%S\"))\n",
    "tensorboard_callback = tf.keras.callbacks.TensorBoard(logdir, histogram_freq=1)\n",
    "reduce_lr = tf.keras.callbacks.ReduceLROnPlateau(monitor='val_loss', factor=0.5,\n",
    "                              patience=2, min_lr=0.000001)\n",
    "\n",
    "#early_stop = tf.keras.callbacks.EarlyStopping(monitor='val_loss', min_delta=0, patience=5, \n",
    "#                                              mode='auto', baseline=None, restore_best_weights=False)\n",
    "callbacks = [reduce_lr, tensorboard_callback]\n",
    "\n",
    "history = model.fit(x=train_imgs_scaled, y=train_labels_enc, \n",
    "                    batch_size=BATCH_SIZE,\n",
    "                    epochs=EPOCHS, \n",
    "                    validation_data=(val_imgs_scaled, val_labels_enc), \n",
    "                    callbacks=callbacks,\n",
    "                    verbose=1)"
   ]
  },
  {
   "cell_type": "code",
   "execution_count": null,
   "metadata": {
    "colab": {},
    "colab_type": "code",
    "id": "h62n2-ExpVm-"
   },
   "outputs": [],
   "source": [
    "#show important learning data\n",
    "f, (ax1, ax2) = plt.subplots(1, 2, figsize=(12, 4))\n",
    "t = f.suptitle('Basic CNN Performance', fontsize=12)\n",
    "f.subplots_adjust(top=0.85, wspace=0.3)\n",
    "\n",
    "max_epoch = len(history.history['accuracy'])+1\n",
    "epoch_list = list(range(1,max_epoch))\n",
    "ax1.plot(epoch_list, history.history['accuracy'], label='Train Accuracy')\n",
    "ax1.plot(epoch_list, history.history['val_accuracy'], label='Validation Accuracy')\n",
    "ax1.set_xticks(np.arange(1, max_epoch, 5))\n",
    "ax1.set_ylabel('Accuracy Value')\n",
    "ax1.set_xlabel('Epoch')\n",
    "ax1.set_title('Accuracy')\n",
    "l1 = ax1.legend(loc=\"best\")\n",
    "\n",
    "ax2.plot(epoch_list, history.history['loss'], label='Train Loss')\n",
    "ax2.plot(epoch_list, history.history['val_loss'], label='Validation Loss')\n",
    "ax2.set_xticks(np.arange(1, max_epoch, 5))\n",
    "ax2.set_ylabel('Loss Value')\n",
    "ax2.set_xlabel('Epoch')\n",
    "ax2.set_title('Loss')\n",
    "l2 = ax2.legend(loc=\"best\")"
   ]
  },
  {
   "cell_type": "code",
   "execution_count": null,
   "metadata": {
    "colab": {},
    "colab_type": "code",
    "id": "b3mqqAkupXRr"
   },
   "outputs": [],
   "source": [
    "#save model\n",
    "model.save('basic_cnn.h5')"
   ]
  },
  {
   "cell_type": "markdown",
   "metadata": {
    "colab_type": "text",
    "id": "IgmPDz8IOJmL"
   },
   "source": [
    "**References**\n",
    "*   Code Heroku: https://www.youtube.com/watch?v=-q9YcDijyaI\n",
    "*   Towards Data Science: https://towardsdatascience.com/detecting-malaria-with-deep-learning-9e45c1e34b60 \n",
    "\n"
   ]
  }
 ],
 "metadata": {
  "colab": {
   "authorship_tag": "ABX9TyMk3/gGg/hxdYh+viwG+830",
   "name": "Kirthi_Malaria_Model.ipynb",
   "provenance": []
  },
  "kernelspec": {
   "display_name": "Python 3",
   "language": "python",
   "name": "python3"
  },
  "language_info": {
   "codemirror_mode": {
    "name": "ipython",
    "version": 3
   },
   "file_extension": ".py",
   "mimetype": "text/x-python",
   "name": "python",
   "nbconvert_exporter": "python",
   "pygments_lexer": "ipython3",
   "version": "3.8.5"
  }
 },
 "nbformat": 4,
 "nbformat_minor": 1
}
